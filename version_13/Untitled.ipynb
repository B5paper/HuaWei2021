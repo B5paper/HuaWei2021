{
 "cells": [
  {
   "cell_type": "code",
   "execution_count": 1,
   "id": "medium-thomson",
   "metadata": {},
   "outputs": [],
   "source": [
    "import numpy as np\n",
    "import matplotlib as mpl\n",
    "mpl.use('tkagg')\n",
    "import mpl_toolkits.mplot3d\n",
    "from scipy import interpolate as interp\n",
    "import matplotlib.pyplot as plt"
   ]
  },
  {
   "cell_type": "code",
   "execution_count": 1,
   "id": "aboriginal-accountability",
   "metadata": {},
   "outputs": [],
   "source": [
    "import numpy as np\n",
    "import matplotlib.pyplot as plt"
   ]
  },
  {
   "cell_type": "code",
   "execution_count": 30,
   "id": "anonymous-buddy",
   "metadata": {},
   "outputs": [],
   "source": [
    "train_1_path = r'D:/task_2/training-1.txt'\n",
    "train_2_path = r'D:/task_2/training-2.txt'\n",
    "\n",
    "f = open(train_2_path, 'r')\n",
    "lines = f.readlines()\n",
    "f.close()"
   ]
  },
  {
   "cell_type": "code",
   "execution_count": 31,
   "id": "coral-possible",
   "metadata": {},
   "outputs": [
    {
     "name": "stdout",
     "output_type": "stream",
     "text": [
      "num servs: 100\n"
     ]
    }
   ],
   "source": [
    "servs = []\n",
    "num_servs = int(lines[0].rstrip('\\n'))\n",
    "for line in lines[1:num_servs+1]:\n",
    "    line = line.lstrip('(').rstrip(')\\n').split(', ')\n",
    "    servs.append([int(line[1]), int(line[2]), int(line[3]), int(line[4])])\n",
    "servs = np.array(servs)\n",
    "print('num servs:', num_servs)"
   ]
  },
  {
   "cell_type": "code",
   "execution_count": 7,
   "id": "informative-cookie",
   "metadata": {},
   "outputs": [],
   "source": [
    "import sklearn.linear_model as lm"
   ]
  },
  {
   "cell_type": "code",
   "execution_count": 45,
   "id": "beautiful-pizza",
   "metadata": {},
   "outputs": [],
   "source": [
    "model = lm.LinearRegression()"
   ]
  },
  {
   "cell_type": "code",
   "execution_count": 46,
   "id": "coordinated-spyware",
   "metadata": {},
   "outputs": [
    {
     "data": {
      "text/plain": [
       "LinearRegression()"
      ]
     },
     "execution_count": 46,
     "metadata": {},
     "output_type": "execute_result"
    }
   ],
   "source": [
    "model.fit(servs[:, :2], servs[:, 2])"
   ]
  },
  {
   "cell_type": "code",
   "execution_count": 47,
   "id": "answering-coating",
   "metadata": {},
   "outputs": [
    {
     "data": {
      "text/plain": [
       "2.080205363907859"
      ]
     },
     "execution_count": 47,
     "metadata": {},
     "output_type": "execute_result"
    }
   ],
   "source": [
    "model.coef_[0] / model.coef_[1]"
   ]
  },
  {
   "cell_type": "code",
   "execution_count": 48,
   "id": "answering-albania",
   "metadata": {},
   "outputs": [
    {
     "data": {
      "text/plain": [
       "-6885.819223471874"
      ]
     },
     "execution_count": 48,
     "metadata": {},
     "output_type": "execute_result"
    }
   ],
   "source": [
    "model.intercept_"
   ]
  },
  {
   "cell_type": "code",
   "execution_count": 54,
   "id": "bigger-recipient",
   "metadata": {},
   "outputs": [
    {
     "data": {
      "text/plain": [
       "array([123459.86112153])"
      ]
     },
     "execution_count": 54,
     "metadata": {},
     "output_type": "execute_result"
    }
   ],
   "source": [
    "model.predict([[416, 390]])"
   ]
  },
  {
   "cell_type": "code",
   "execution_count": null,
   "id": "coastal-configuration",
   "metadata": {},
   "outputs": [],
   "source": [
    "plt.bar"
   ]
  },
  {
   "cell_type": "code",
   "execution_count": 69,
   "id": "contained-substitute",
   "metadata": {},
   "outputs": [
    {
     "data": {
      "text/plain": [
       "array([   300,    830, 170076,    177])"
      ]
     },
     "execution_count": 69,
     "metadata": {},
     "output_type": "execute_result"
    }
   ],
   "source": [
    "servs[0]"
   ]
  },
  {
   "cell_type": "code",
   "execution_count": 70,
   "id": "sustained-orange",
   "metadata": {},
   "outputs": [
    {
     "data": {
      "text/plain": [
       "144090.6574044695"
      ]
     },
     "execution_count": 70,
     "metadata": {},
     "output_type": "execute_result"
    }
   ],
   "source": [
    "model.predict(servs[:10, :2])[0]"
   ]
  },
  {
   "cell_type": "code",
   "execution_count": 75,
   "id": "healthy-relationship",
   "metadata": {},
   "outputs": [
    {
     "data": {
      "text/plain": [
       "array([144090.65740447,  89280.35092628, 135116.89854594, 174254.77387162,\n",
       "       150241.49608463,  53921.16104879, 193484.77162161, 195469.25015445,\n",
       "        85581.08168496, 142270.27078357])"
      ]
     },
     "execution_count": 75,
     "metadata": {},
     "output_type": "execute_result"
    }
   ],
   "source": [
    " model.predict(servs[:10, :2])"
   ]
  },
  {
   "cell_type": "code",
   "execution_count": 73,
   "id": "furnished-jenny",
   "metadata": {},
   "outputs": [
    {
     "data": {
      "text/plain": [
       "array([[   300,    830, 170076,    177],\n",
       "       [   102,    714,  73229,    159],\n",
       "       [   170,   1014, 164248,    171],\n",
       "       [   456,    796, 170212,    256],\n",
       "       [   490,    494, 121705,    265],\n",
       "       [   170,    232,  64122,     68],\n",
       "       [   870,    120, 236918,    247],\n",
       "       [   834,    214, 164051,    354],\n",
       "       [   356,    150, 101230,    106],\n",
       "       [   630,    126, 142266,    213]])"
      ]
     },
     "execution_count": 73,
     "metadata": {},
     "output_type": "execute_result"
    }
   ],
   "source": [
    "servs[:10]"
   ]
  },
  {
   "cell_type": "code",
   "execution_count": 77,
   "id": "simple-oriental",
   "metadata": {},
   "outputs": [
    {
     "data": {
      "text/plain": [
       "array([302, 104, 172, 458, 492, 172, 872, 836, 358, 632])"
      ]
     },
     "execution_count": 77,
     "metadata": {},
     "output_type": "execute_result"
    }
   ],
   "source": [
    "servs[:10, 0]+2"
   ]
  },
  {
   "cell_type": "code",
   "execution_count": 78,
   "id": "integrated-recorder",
   "metadata": {},
   "outputs": [
    {
     "data": {
      "text/plain": [
       "array([170076,  73229, 164248, 170212, 121705,  64122, 236918, 164051,\n",
       "       101230, 142266])"
      ]
     },
     "execution_count": 78,
     "metadata": {},
     "output_type": "execute_result"
    }
   ],
   "source": [
    "servs[:10, 2]"
   ]
  },
  {
   "cell_type": "code",
   "execution_count": 79,
   "id": "infrared-messenger",
   "metadata": {},
   "outputs": [
    {
     "data": {
      "text/plain": [
       "array([300, 102, 170, 456, 490, 170, 870, 834, 356, 630])"
      ]
     },
     "execution_count": 79,
     "metadata": {},
     "output_type": "execute_result"
    }
   ],
   "source": [
    "servs[:10, 0]"
   ]
  },
  {
   "cell_type": "code",
   "execution_count": 91,
   "id": "traditional-brother",
   "metadata": {},
   "outputs": [
    {
     "data": {
      "text/plain": [
       "array([302, 104, 172, 458, 492, 172, 872, 836, 358, 632])"
      ]
     },
     "execution_count": 91,
     "metadata": {},
     "output_type": "execute_result"
    }
   ],
   "source": [
    "servs[:10, 0]+2"
   ]
  },
  {
   "cell_type": "code",
   "execution_count": 92,
   "id": "basic-gamma",
   "metadata": {},
   "outputs": [
    {
     "data": {
      "text/plain": [
       "array([144090.65740447,  89280.35092628, 135116.89854594, 174254.77387162,\n",
       "       150241.49608463,  53921.16104879, 193484.77162161, 195469.25015445,\n",
       "        85581.08168496, 142270.27078357])"
      ]
     },
     "execution_count": 92,
     "metadata": {},
     "output_type": "execute_result"
    }
   ],
   "source": [
    "model.predict(servs[:10, :2])"
   ]
  },
  {
   "cell_type": "code",
   "execution_count": 93,
   "id": "noted-belgium",
   "metadata": {},
   "outputs": [],
   "source": [
    "pre = model.predict(servs[:10, :2])"
   ]
  },
  {
   "cell_type": "code",
   "execution_count": 107,
   "id": "physical-processor",
   "metadata": {},
   "outputs": [
    {
     "data": {
      "text/plain": [
       "array([870, 834, 356, 630])"
      ]
     },
     "execution_count": 107,
     "metadata": {},
     "output_type": "execute_result"
    }
   ],
   "source": [
    "servs[:10, 0][6:]"
   ]
  },
  {
   "cell_type": "code",
   "execution_count": 108,
   "id": "numeric-schedule",
   "metadata": {},
   "outputs": [
    {
     "data": {
      "text/plain": [
       "array([193484.77162161, 195469.25015445,  85581.08168496, 142270.27078357])"
      ]
     },
     "execution_count": 108,
     "metadata": {},
     "output_type": "execute_result"
    }
   ],
   "source": [
    "pre[6:]"
   ]
  },
  {
   "cell_type": "code",
   "execution_count": 143,
   "id": "preliminary-harmony",
   "metadata": {},
   "outputs": [
    {
     "data": {
      "image/png": "[encoded data removed]",
      "text/plain": [
       "<Figure size 432x288 with 1 Axes>"
      ]
     },
     "metadata": {
      "needs_background": "light"
     },
     "output_type": "display_data"
    }
   ],
   "source": [
    "ax = plt.gca()\n",
    "ax.bar([630], [142270], width=10, color='r')\n",
    "ax.set_xlim([100, 880])\n",
    "plt.show()"
   ]
  },
  {
   "cell_type": "code",
   "execution_count": 146,
   "id": "possible-nightlife",
   "metadata": {},
   "outputs": [
    {
     "data": {
      "image/png": "[encoded data removed]",
      "text/plain": [
       "<Figure size 864x720 with 1 Axes>"
      ]
     },
     "metadata": {
      "needs_background": "light"
     },
     "output_type": "display_data"
    }
   ],
   "source": [
    "fig = plt.gcf()\n",
    "ax = fig.gca()\n",
    "ax.bar(servs[:10, 0][:5], pre[:5], width=8)\n",
    "\n",
    "ax.set_xlim([0, 1000])\n",
    "ax.set_ylim([0, 242270])\n",
    "fig.set_figwidth(12)\n",
    "fig.set_figheight(10)\n",
    "plt.show()"
   ]
  },
  {
   "cell_type": "code",
   "execution_count": 155,
   "id": "streaming-poster",
   "metadata": {},
   "outputs": [
    {
     "data": {
      "image/png": "[encoded data removed]",
      "text/plain": [
       "<Figure size 864x720 with 1 Axes>"
      ]
     },
     "metadata": {
      "needs_background": "light"
     },
     "output_type": "display_data"
    }
   ],
   "source": [
    "plt.bar(servs[:, 1]+3, servs[:, 2], width=3, color='b')\n",
    "plt.bar(servs[:, 1], model.predict(servs[:, :2]), width=3, color='r')\n",
    "\n",
    "fig = plt.gcf()\n",
    "fig.set_figwidth(12)\n",
    "fig.set_figheight(10)\n",
    "plt.show()"
   ]
  },
  {
   "cell_type": "code",
   "execution_count": 183,
   "id": "appointed-baltimore",
   "metadata": {},
   "outputs": [
    {
     "name": "stdout",
     "output_type": "stream",
     "text": [
      "num vms: 1000\n"
     ]
    }
   ],
   "source": [
    "vm_names = []\n",
    "vms = []\n",
    "num_vms = int(lines[num_servs+1].rstrip('\\n'))\n",
    "line_vm_start = num_servs + 1\n",
    "for line in lines[line_vm_start + 1 : line_vm_start + num_vms + 1]:\n",
    "    line = line.lstrip('(').rstrip(')\\n').split(', ')\n",
    "    vm_names.append(line[0])\n",
    "    vms.append([int(line[1]), int(line[2]), int(line[3])])\n",
    "vms = np.array(vms)\n",
    "print('num vms:', num_vms)"
   ]
  },
  {
   "cell_type": "code",
   "execution_count": 52,
   "id": "excessive-diabetes",
   "metadata": {},
   "outputs": [
    {
     "ename": "SyntaxError",
     "evalue": "invalid syntax (<ipython-input-52-3a9c68ceb100>, line 1)",
     "output_type": "error",
     "traceback": [
      "\u001b[1;36m  File \u001b[1;32m\"<ipython-input-52-3a9c68ceb100>\"\u001b[1;36m, line \u001b[1;32m1\u001b[0m\n\u001b[1;33m    for (auto &i in range(num_reqs)):\u001b[0m\n\u001b[1;37m                                    ^\u001b[0m\n\u001b[1;31mSyntaxError\u001b[0m\u001b[1;31m:\u001b[0m invalid syntax\n"
     ]
    }
   ],
   "source": [
    "for (auto &i in range(num_reqs)):"
   ]
  },
  {
   "cell_type": "code",
   "execution_count": 184,
   "id": "apparent-gender",
   "metadata": {},
   "outputs": [
    {
     "name": "stdout",
     "output_type": "stream",
     "text": [
      "num days: 1000\n",
      "k: 82\n",
      "num reqs: 169322\n"
     ]
    }
   ],
   "source": [
    "num_days, k = map(int, lines[line_vm_start + num_vms + 1].rstrip('\\n').split())\n",
    "line_req_start = line_vm_start + num_vms + 2;\n",
    "\n",
    "reqs = []\n",
    "for i in range(num_days):\n",
    "    n = int(lines[line_req_start].rstrip('\\n'))\n",
    "    for j in range(line_req_start + 1, line_req_start + n + 1):\n",
    "        line = lines[j].rstrip(')\\n').lstrip('(').split(', ')\n",
    "        if len(line) == 2:\n",
    "            reqs.append([i, 0, int(line[1])])\n",
    "        else:\n",
    "            reqs.append([i, 1, vm_names.index(line[1]), int(line[2])])\n",
    "    line_req_start = line_req_start + n + 1\n",
    "print('num days:', num_days)\n",
    "print('k:', k)\n",
    "print('num reqs:', len(reqs))"
   ]
  },
  {
   "cell_type": "code",
   "execution_count": 185,
   "id": "executive-reminder",
   "metadata": {},
   "outputs": [
    {
     "name": "stdout",
     "output_type": "stream",
     "text": [
      "num adds: 19938\n"
     ]
    }
   ],
   "source": [
    "vm_ins = []\n",
    "day_range = range(500, 700)\n",
    "for req in reqs:\n",
    "    if req[0] in day_range:\n",
    "        if (req[1] == 1):\n",
    "            vm_ins.append(req[2])\n",
    "vm_ins = np.array(vm_ins)\n",
    "print(\"num adds:\", len(vm_ins))"
   ]
  },
  {
   "cell_type": "code",
   "execution_count": 186,
   "id": "radio-sodium",
   "metadata": {},
   "outputs": [],
   "source": [
    "vm_ins_core_mem_ratios = vms[vm_ins][:, :2]\n",
    "vm_ins_core_mem_ratios = vm_ins_core_mem_ratios[:, 0] / vm_ins_core_mem_ratios[:, 1]\n",
    "\n",
    "vm_core_mem_ratios = vms[:, 0] / vms[:, 1]\n",
    "\n",
    "serv_core_mem_ratios = servs[:, 0] / servs[:, 1]"
   ]
  },
  {
   "cell_type": "code",
   "execution_count": 153,
   "id": "adapted-biotechnology",
   "metadata": {},
   "outputs": [
    {
     "data": {
      "text/plain": [
       "1.0449949443882711"
      ]
     },
     "execution_count": 153,
     "metadata": {},
     "output_type": "execute_result"
    }
   ],
   "source": [
    "np.median(vm_ins_core_mem_ratios)"
   ]
  },
  {
   "cell_type": "code",
   "execution_count": 157,
   "id": "independent-importance",
   "metadata": {},
   "outputs": [],
   "source": [
    "size_mid = np.median(servs[:, 0] + servs[:, 1])"
   ]
  },
  {
   "cell_type": "code",
   "execution_count": 158,
   "id": "domestic-instruction",
   "metadata": {},
   "outputs": [
    {
     "data": {
      "text/plain": [
       "array([ 1, 12, 89, 41, 90, 23, 24, 82, 64, 62,  9, 71, 27, 92, 80, 70, 32,\n",
       "       77, 93, 37, 87, 86, 51, 43, 49, 54, 75, 53, 57, 22, 30, 31, 16, 47,\n",
       "       39, 91, 59, 95, 34, 42, 10,  4,  6, 69, 96, 45, 18, 29, 85, 52, 63,\n",
       "       76, 28, 40,  7, 48, 73, 97, 50, 58, 19, 94,  0,  8, 79, 44, 20, 84,\n",
       "       88, 61, 14, 68, 11, 17,  2, 99, 74, 46, 72, 21, 60, 67,  5, 56, 65,\n",
       "        3, 38, 78, 35, 33, 26, 36, 25, 13, 15, 81, 66, 83, 55, 98],\n",
       "      dtype=int64)"
      ]
     },
     "execution_count": 158,
     "metadata": {},
     "output_type": "execute_result"
    }
   ],
   "source": [
    "np.argsort(np.abs(servs[:, 0] + servs[:, 1] - size_mid))"
   ]
  },
  {
   "cell_type": "code",
   "execution_count": 156,
   "id": "binary-montana",
   "metadata": {},
   "outputs": [
    {
     "data": {
      "text/plain": [
       "array([34, 82, 30, 41, 13, 98, 38, 31,  4, 35, 66, 44, 86, 12, 27, 55, 22,\n",
       "       56, 46, 72, 62, 58, 40, 33,  5, 88, 18, 99, 81,  3, 83, 37, 69, 48,\n",
       "       97, 65, 67, 15, 70, 59, 64, 47, 26, 25, 95, 14,  0, 87, 17, 29, 79,\n",
       "       42, 61, 80, 43, 74, 91, 90, 45, 21, 52, 92,  2, 24, 89, 77, 51, 96,\n",
       "       73,  1, 75, 16, 94, 71, 19, 36, 76, 20, 93, 60, 78,  8, 63, 11, 53,\n",
       "       84, 49, 28, 10, 68, 85, 50,  7, 57, 23,  9, 39,  6, 32, 54],\n",
       "      dtype=int64)"
      ]
     },
     "execution_count": 156,
     "metadata": {},
     "output_type": "execute_result"
    }
   ],
   "source": [
    "np.argsort(np.abs(servs[:, 0] / servs[:, 1] - np.median(vm_ins_core_mem_ratios)))"
   ]
  },
  {
   "cell_type": "code",
   "execution_count": 122,
   "id": "polish-agenda",
   "metadata": {},
   "outputs": [
    {
     "data": {
      "text/plain": [
       "2.4875748001779607"
      ]
     },
     "execution_count": 122,
     "metadata": {},
     "output_type": "execute_result"
    }
   ],
   "source": [
    "vm_ins_core_mem_ratios.mean()"
   ]
  },
  {
   "cell_type": "code",
   "execution_count": 123,
   "id": "atlantic-technique",
   "metadata": {
    "scrolled": true
   },
   "outputs": [
    {
     "data": {
      "text/plain": [
       "5.300859494719686"
      ]
     },
     "execution_count": 123,
     "metadata": {},
     "output_type": "execute_result"
    }
   ],
   "source": [
    "vm_ins_core_mem_ratios.std()"
   ]
  },
  {
   "cell_type": "code",
   "execution_count": 38,
   "id": "equivalent-reality",
   "metadata": {},
   "outputs": [
    {
     "data": {
      "text/plain": [
       "array([0.81770833, 0.82563025, 0.7804878 , 0.77464789])"
      ]
     },
     "execution_count": 38,
     "metadata": {},
     "output_type": "execute_result"
    }
   ],
   "source": [
    "serv_core_mem_ratios[[22, 55, 46, 62]]"
   ]
  },
  {
   "cell_type": "markdown",
   "id": "small-angel",
   "metadata": {},
   "source": [
    "# 待解决的问题\n",
    "\n",
    "1. 在输出状态中，基本都是剩余的核心数少于内存数。为什么？是不是 select 函数出了问题？\n",
    "1. 把迁移优化到最好，保证每次迁移完后，即使是 490, 494 这样的垃圾服务器，也能几乎满载，空出来许多。\n",
    "1. 有关选型问题，是否选择保证比例的情况下，大小适中的服务器会好一些？\n",
    "1. 对于 training-2 数据集，是否选择比较杂的服务器会好一些？\n",
    "1. 在输出状态中，增添每个服务器当前的虚拟机型号（核心数 内存数 节点型号）以及数量，观察是什么情况让这个服务器满了或不满\n",
    "1. 如果在一天的开始，那么 select 时需要条件严格一些，尽量 best fitting，在一天快要结束时，条件可以放宽些，比如单节点虚拟机也可以放到空余的双节点服务器上。因为不想启用或购买新服务器。在第二天迁移时，需要对这些情况做处理。"
   ]
  },
  {
   "cell_type": "code",
   "execution_count": 160,
   "id": "orange-flight",
   "metadata": {},
   "outputs": [
    {
     "data": {
      "text/plain": [
       "(9900,)"
      ]
     },
     "execution_count": 160,
     "metadata": {},
     "output_type": "execute_result"
    }
   ],
   "source": [
    "vm_ins.shape"
   ]
  },
  {
   "cell_type": "code",
   "execution_count": 202,
   "id": "strong-vatican",
   "metadata": {},
   "outputs": [
    {
     "data": {
      "image/png": "[encoded data removed]",
      "text/plain": [
       "<Figure size 432x288 with 1 Axes>"
      ]
     },
     "metadata": {
      "needs_background": "light"
     },
     "output_type": "display_data"
    }
   ],
   "source": [
    "plt.hist(vms[vm_ins][:, 0] + vms[vm_ins][:, 1], bins=100)\n",
    "plt.show()"
   ]
  },
  {
   "cell_type": "code",
   "execution_count": 187,
   "id": "differential-seattle",
   "metadata": {},
   "outputs": [
    {
     "data": {
      "image/png": "[encoded data removed]",
      "text/plain": [
       "<Figure size 432x288 with 1 Axes>"
      ]
     },
     "metadata": {
      "needs_background": "light"
     },
     "output_type": "display_data"
    }
   ],
   "source": [
    "plt.plot((vms[vm_ins][:, 0] - vms[vm_ins][:, 1]) / (vms[vm_ins][:, 0] + vms[vm_ins][:, 1]), vms[vm_ins][:, 0] + vms[vm_ins][:, 1], 'o', alpha=0.01)\n",
    "ax = plt.gca()\n",
    "ax.set_xlim([-1, 1])\n",
    "plt.show()"
   ]
  },
  {
   "cell_type": "code",
   "execution_count": 136,
   "id": "consistent-cornell",
   "metadata": {},
   "outputs": [
    {
     "data": {
      "image/png": "[encoded data removed]",
      "text/plain": [
       "<Figure size 432x288 with 1 Axes>"
      ]
     },
     "metadata": {
      "needs_background": "light"
     },
     "output_type": "display_data"
    }
   ],
   "source": [
    "plt.plot((vms[:, 0] - vms[:, 1]) / (vms[:, 0] + vms[:, 1]), vms[:, 0] + vms[:, 1], 'o')\n",
    "ax = plt.gca()\n",
    "ax.set_xlim([-1, 1])\n",
    "plt.show()"
   ]
  },
  {
   "cell_type": "markdown",
   "id": "future-board",
   "metadata": {},
   "source": [
    "核心的中间数：$mid(cores) = (median(cores) + mean(cores)) / 2$\n",
    "\n",
    "内存的中间数：$mid(mems) = (median(mems) + mean(mems)) / 2$\n",
    "\n",
    "尺寸：$sizes = mems + cores$\n",
    "\n",
    "尺寸的中间数：$mid(sizes) = (median(sizes) + mean(sizes)) / 2$\n",
    "\n",
    "每个服务器的大小评价：$caps = \\dfrac{(cores - mid(cores))^2 + (mems - mid(mems))^2 + (sizes - mid(sizes))^2}{3} $\n",
    "\n",
    "服务器到“中间服务器”的距离：$dis = ((caps - median(caps)) + (caps - mean(caps))) / 2$\n",
    "\n",
    "这个距离越小，说明服务器越“适中”。"
   ]
  },
  {
   "cell_type": "code",
   "execution_count": 234,
   "id": "compliant-option",
   "metadata": {},
   "outputs": [
    {
     "data": {
      "text/plain": [
       "852.5899999999999"
      ]
     },
     "execution_count": 234,
     "metadata": {},
     "output_type": "execute_result"
    }
   ],
   "source": [
    "mid_core_mem_sums"
   ]
  },
  {
   "cell_type": "code",
   "execution_count": 253,
   "id": "loving-house",
   "metadata": {},
   "outputs": [
    {
     "data": {
      "text/plain": [
       "92"
      ]
     },
     "execution_count": 253,
     "metadata": {},
     "output_type": "execute_result"
    }
   ],
   "source": [
    "np.argsort(sizes)[49]"
   ]
  },
  {
   "cell_type": "code",
   "execution_count": 259,
   "id": "premier-federation",
   "metadata": {},
   "outputs": [
    {
     "data": {
      "text/plain": [
       "array([12, 69, 86, 18, 82, 30,  8, 97, 67, 31, 68, 34, 65, 41, 84, 95, 62,\n",
       "       11, 63, 37, 22, 26, 50,  0,  3, 43, 85, 74, 61, 27,  4, 10, 44, 88,\n",
       "       29, 40, 15, 53, 64, 87, 70, 72, 47, 59, 21, 83, 48, 57, 46, 33, 38,\n",
       "       39,  5,  2, 81, 99, 45, 35, 80, 42, 93, 14, 90, 73, 58, 96, 94,  9,\n",
       "       79, 23, 91, 51, 77, 17, 92, 16, 89, 75,  1, 71, 52, 24, 49, 76, 56,\n",
       "       19, 66, 13, 28, 20, 55, 32, 54, 60,  7,  6, 78, 98, 25, 36],\n",
       "      dtype=int64)"
      ]
     },
     "execution_count": 259,
     "metadata": {},
     "output_type": "execute_result"
    }
   ],
   "source": [
    "np.argsort(np.abs(servs[:, 0] - mid_cores))"
   ]
  },
  {
   "cell_type": "code",
   "execution_count": 277,
   "id": "together-spending",
   "metadata": {},
   "outputs": [
    {
     "data": {
      "text/plain": [
       "array([   98,   680, 91928,   139])"
      ]
     },
     "execution_count": 277,
     "metadata": {},
     "output_type": "execute_result"
    }
   ],
   "source": [
    "servs[24]"
   ]
  },
  {
   "cell_type": "code",
   "execution_count": 267,
   "id": "specialized-style",
   "metadata": {},
   "outputs": [
    {
     "data": {
      "text/plain": [
       "array([12, 62, 41, 82, 22, 31, 30,  4, 86, 27, 34, 70, 64, 37, 47, 59, 40,\n",
       "       48, 18, 69, 95, 43, 42, 58, 80, 44, 88, 97, 87, 79, 99, 14, 46, 63,\n",
       "       53, 17, 91, 52, 93,  8,  5, 72, 10, 74, 85, 84, 11, 90, 38, 92, 76,\n",
       "       56, 50, 29, 68, 35,  3, 57, 24, 67, 49, 19,  1, 33, 65, 89, 23,  0,\n",
       "       39, 20,  9, 77, 71, 28, 45, 51, 60, 75, 61, 16, 96, 13,  7, 26, 66,\n",
       "       78, 73, 32, 81, 54, 25, 15, 83,  6, 21, 36,  2, 94, 55, 98],\n",
       "      dtype=int64)"
      ]
     },
     "execution_count": 267,
     "metadata": {},
     "output_type": "execute_result"
    }
   ],
   "source": [
    "np.argsort(sizes)"
   ]
  },
  {
   "cell_type": "code",
   "execution_count": null,
   "id": "loaded-devon",
   "metadata": {},
   "outputs": [],
   "source": []
  },
  {
   "cell_type": "code",
   "execution_count": 284,
   "id": "chinese-uncle",
   "metadata": {},
   "outputs": [
    {
     "data": {
      "text/plain": [
       "0.5577561721302536"
      ]
     },
     "execution_count": 284,
     "metadata": {},
     "output_type": "execute_result"
    }
   ],
   "source": [
    "sizes[2]"
   ]
  },
  {
   "cell_type": "code",
   "execution_count": null,
   "id": "capable-queens",
   "metadata": {},
   "outputs": [],
   "source": []
  },
  {
   "cell_type": "code",
   "execution_count": 289,
   "id": "sophisticated-charity",
   "metadata": {},
   "outputs": [
    {
     "data": {
      "text/plain": [
       "[<matplotlib.lines.Line2D at 0x1c846a26b80>]"
      ]
     },
     "execution_count": 289,
     "metadata": {},
     "output_type": "execute_result"
    },
    {
     "data": {
      "image/png": "[encoded data removed]",
      "text/plain": [
       "<Figure size 432x288 with 1 Axes>"
      ]
     },
     "metadata": {
      "needs_background": "light"
     },
     "output_type": "display_data"
    }
   ],
   "source": [
    "plt.plot(sizes)"
   ]
  },
  {
   "cell_type": "code",
   "execution_count": 363,
   "id": "expensive-sheffield",
   "metadata": {},
   "outputs": [
    {
     "data": {
      "text/plain": [
       "array([6.91248771e-01, 9.72222222e-01, 9.35060060e-01, 4.93787717e-01,\n",
       "       2.26287263e-01, 3.76451078e-01, 5.35353535e-01, 3.69380831e-01,\n",
       "       1.84892402e-01, 4.44444444e-01, 2.76248726e-01, 2.13901126e-01,\n",
       "       2.90514905e-01, 2.16972878e-01, 6.34502924e-01, 5.59050532e-01,\n",
       "       9.98120742e-01, 7.20019579e-01, 5.18042158e-02, 1.09914223e-01,\n",
       "       1.22605364e-01, 8.88888889e-01, 3.22508755e-01, 3.75767728e-01,\n",
       "       9.70294202e-01, 2.04444444e-02, 5.89743590e-01, 1.11111111e-01,\n",
       "       2.67221156e-01, 7.21236029e-01, 1.93486590e-01, 2.22222222e-01,\n",
       "       5.51613698e-01, 3.76068376e-01, 2.01201201e-01, 2.45751634e-01,\n",
       "       1.10199118e-01, 5.22003404e-01, 2.22222222e-01, 4.67836257e-01,\n",
       "       3.70870871e-01, 1.89964158e-01, 7.44880832e-01, 6.79186228e-02,\n",
       "       1.39577594e-01, 8.87560868e-01, 3.45509893e-01, 5.80822805e-01,\n",
       "       5.53280243e-01, 2.55099592e-01, 3.44211344e-01, 9.70595324e-01,\n",
       "       9.01960784e-01, 2.16871262e-01, 5.53639847e-01, 3.17734305e-01,\n",
       "       9.78280381e-02, 3.74368687e-01, 7.57020757e-02, 5.79154376e-01,\n",
       "       1.33986928e-01, 7.61471369e-01, 3.49206349e-01, 2.01618837e-01,\n",
       "       5.80116959e-01, 5.55555556e-01, 2.68376068e-01, 5.55555556e-01,\n",
       "       2.77777778e-01, 3.48310693e-04, 5.64613527e-01, 1.00000000e+00,\n",
       "       8.76068376e-02, 9.70793651e-01, 8.37138508e-02, 9.98084291e-01,\n",
       "       1.11111111e-01, 9.70566593e-01, 1.78398896e-01, 7.22222222e-01,\n",
       "       7.87905868e-01, 4.66093190e-01, 1.96315486e-01, 5.08667235e-01,\n",
       "       2.22222222e-01, 2.95693087e-01, 1.35871247e-01, 6.94989107e-01,\n",
       "       3.79218809e-01, 9.70406242e-01, 8.87222222e-01, 8.82046269e-01,\n",
       "       9.34222222e-01, 1.33040936e-01, 9.98421157e-01, 2.77777778e-02,\n",
       "       9.70725216e-01, 5.55555556e-01, 2.22222222e-01, 4.65465465e-01])"
      ]
     },
     "execution_count": 363,
     "metadata": {},
     "output_type": "execute_result"
    }
   ],
   "source": [
    "ratio_scr"
   ]
  },
  {
   "cell_type": "code",
   "execution_count": 301,
   "id": "confident-bailey",
   "metadata": {},
   "outputs": [
    {
     "data": {
      "text/plain": [
       "14"
      ]
     },
     "execution_count": 301,
     "metadata": {},
     "output_type": "execute_result"
    }
   ],
   "source": [
    "mid_cores = (np.median(servs[:, 0]) + np.mean(servs[:, 0])) / 2\n",
    "mid_mems = (np.median(servs[:, 1]) + np.mean(servs[:, 1])) / 2\n",
    "core_mem_sums = servs[:, 0] + servs[:, 1]\n",
    "mid_core_mem_sums = (np.median(core_mem_sums) + np.mean(core_mem_sums)) / 2\n",
    "size_scrs = np.sqrt((servs[:, 0] - mid_cores)**2 + (servs[:, 1] - mid_mems)**2 + (core_mem_sums - mid_core_mem_sums)**2)\n",
    "size_scrs = (size_scrs - np.min(size_scrs)) / (size_scrs.max() - size_scrs.min())\n",
    "# size_scrs = size_scrs**2  # 给 size_scrs 乘个指数，可以更好地拉开大服务器与小服务器尺寸的得分\n",
    "np.argsort(size_scrs)[59]"
   ]
  },
  {
   "cell_type": "code",
   "execution_count": 312,
   "id": "material-arbor",
   "metadata": {},
   "outputs": [
    {
     "data": {
      "text/plain": [
       "array([14, 40,  1])"
      ]
     },
     "execution_count": 312,
     "metadata": {},
     "output_type": "execute_result"
    }
   ],
   "source": [
    "vm = vms[700]\n",
    "vm"
   ]
  },
  {
   "cell_type": "code",
   "execution_count": 357,
   "id": "sensitive-development",
   "metadata": {},
   "outputs": [
    {
     "data": {
      "text/plain": [
       "array([22, 14])"
      ]
     },
     "execution_count": 357,
     "metadata": {},
     "output_type": "execute_result"
    }
   ],
   "source": [
    "vm = np.array([22, 14])\n",
    "vm"
   ]
  },
  {
   "cell_type": "code",
   "execution_count": 354,
   "id": "provincial-initial",
   "metadata": {},
   "outputs": [
    {
     "data": {
      "text/plain": [
       "0.4898785425101215"
      ]
     },
     "execution_count": 354,
     "metadata": {},
     "output_type": "execute_result"
    }
   ],
   "source": [
    "242 / 494"
   ]
  },
  {
   "cell_type": "code",
   "execution_count": 361,
   "id": "directed-guidance",
   "metadata": {},
   "outputs": [
    {
     "data": {
      "text/plain": [
       "array([27, 69, 95, 41, 43, 82, 86, 18, 12, 30, 58,  4, 93, 31, 34, 76, 62,\n",
       "       22, 53, 19, 63, 44, 74, 56, 72, 20, 49,  8, 10, 85, 40, 60, 84, 11,\n",
       "       37, 28, 57, 23, 50, 70, 68, 64, 38, 88, 25, 78, 46, 47, 35, 59,  9,\n",
       "       48, 39, 97,  5,  7, 36, 99, 33, 87, 13,  3, 42, 67, 80, 32, 66, 65,\n",
       "       29, 54, 14,  6,  0, 79, 17, 91, 90, 52, 92, 81, 26, 98, 61, 55, 24,\n",
       "       45,  1, 89, 83, 15, 77, 51, 71, 75, 16, 96, 73, 21,  2, 94],\n",
       "      dtype=int64)"
      ]
     },
     "execution_count": 361,
     "metadata": {},
     "output_type": "execute_result"
    }
   ],
   "source": [
    "np.argsort(serv_scrs)"
   ]
  },
  {
   "cell_type": "code",
   "execution_count": 353,
   "id": "incoming-estimate",
   "metadata": {},
   "outputs": [
    {
     "data": {
      "text/plain": [
       "array([  242,   494, 77102,   167])"
      ]
     },
     "execution_count": 353,
     "metadata": {},
     "output_type": "execute_result"
    }
   ],
   "source": [
    "servs[70]"
   ]
  },
  {
   "cell_type": "code",
   "execution_count": 360,
   "id": "junior-india",
   "metadata": {},
   "outputs": [
    {
     "data": {
      "image/png": "[encoded data removed]",
      "text/plain": [
       "<Figure size 432x288 with 1 Axes>"
      ]
     },
     "metadata": {
      "needs_background": "light"
     },
     "output_type": "display_data"
    }
   ],
   "source": [
    "plt.plot(ratio_scrs, 'r')\n",
    "plt.plot(size_scrs, 'b')\n",
    "plt.show()\n"
   ]
  },
  {
   "cell_type": "code",
   "execution_count": 365,
   "id": "official-kansas",
   "metadata": {},
   "outputs": [
    {
     "data": {
      "text/plain": [
       "0.2222222222222222"
      ]
     },
     "execution_count": 365,
     "metadata": {},
     "output_type": "execute_result"
    }
   ],
   "source": [
    "(vm[0] - vm[1]) / (vm[0] + vm[1])"
   ]
  },
  {
   "cell_type": "code",
   "execution_count": 366,
   "id": "general-reminder",
   "metadata": {},
   "outputs": [
    {
     "data": {
      "text/plain": [
       "array([1.07709748, 1.27625671, 1.50342468, 0.92968009, 0.35201183,\n",
       "       0.81791627, 1.03533219, 0.81824736, 0.55398842, 0.78153713,\n",
       "       0.56434585, 0.63188197, 0.29051491, 0.91457394, 1.02443221,\n",
       "       1.30637098, 1.39031639, 1.11663842, 0.2827415 , 0.47660289,\n",
       "       0.53812374, 1.47105562, 0.44835965, 0.68729717, 1.26227667,\n",
       "       0.74052715, 1.21720674, 0.19405763, 0.65359864, 1.01453576,\n",
       "       0.33131838, 0.3604062 , 1.00011336, 0.89486798, 0.36835674,\n",
       "       0.75478033, 0.82418046, 0.63760318, 0.70611512, 0.81392602,\n",
       "       0.60980446, 0.23350168, 0.97210279, 0.26105046, 0.49967115,\n",
       "       1.26262204, 0.74866626, 0.75058011, 0.80849986, 0.55379903,\n",
       "       0.69324293, 1.33039618, 1.19770077, 0.4644776 , 1.01985003,\n",
       "       1.24381761, 0.51100659, 0.68227243, 0.34679771, 0.75488659,\n",
       "       0.61646681, 1.22312498, 0.4146592 , 0.49772644, 0.70263221,\n",
       "       1.00618654, 1.00272494, 0.98108087, 0.70099691, 0.22658749,\n",
       "       0.69463729, 1.35048638, 0.52085994, 1.4326628 , 0.50495074,\n",
       "       1.37731206, 0.41177748, 1.31979209, 0.74506591, 1.0788628 ,\n",
       "       0.9975526 , 1.21298778, 0.26224894, 1.28143338, 0.62876765,\n",
       "       0.60905226, 0.26374523, 0.90177762, 0.70626376, 1.27735316,\n",
       "       1.14450325, 1.1419853 , 1.20597699, 0.35779704, 1.54708165,\n",
       "       0.23342704, 1.39127482, 0.81617711, 1.22222222, 0.86265205])"
      ]
     },
     "execution_count": 366,
     "metadata": {},
     "output_type": "execute_result"
    }
   ],
   "source": [
    "serv_scrs = ratio_scrs + size_scrs\n",
    "serv_scrs"
   ]
  },
  {
   "cell_type": "code",
   "execution_count": 323,
   "id": "pointed-cliff",
   "metadata": {},
   "outputs": [
    {
     "data": {
      "text/plain": [
       "array([64, 37, 70, 12, 47, 62, 59, 87, 80, 42, 22, 48, 97, 90, 91, 29, 41,\n",
       "       82, 92, 52, 40,  4, 79, 24, 31,  1, 89,  0, 14, 17, 30, 45, 34, 77,\n",
       "       51, 88, 27, 71, 67, 86, 99, 61, 75, 65, 16,  3, 96, 46, 73,  5, 21,\n",
       "        2, 33, 94, 26, 18, 58, 44, 38, 35, 69, 95, 15, 56, 43, 81, 83, 72,\n",
       "       66, 93, 13, 76, 19, 74, 55, 53, 20, 63,  8, 60, 49, 98, 25, 10, 11,\n",
       "       84, 85, 28, 78, 36, 68, 50, 57, 23,  7,  9, 39, 32,  6, 54],\n",
       "      dtype=int64)"
      ]
     },
     "execution_count": 323,
     "metadata": {},
     "output_type": "execute_result"
    }
   ],
   "source": [
    "np.argsort(serv_scrs)"
   ]
  },
  {
   "cell_type": "code",
   "execution_count": 314,
   "id": "japanese-socket",
   "metadata": {},
   "outputs": [
    {
     "data": {
      "image/png": "[encoded data removed]",
      "text/plain": [
       "<Figure size 432x288 with 1 Axes>"
      ]
     },
     "metadata": {
      "needs_background": "light"
     },
     "output_type": "display_data"
    }
   ],
   "source": [
    "plt.plot(ratio_scrs)\n",
    "plt.show()"
   ]
  },
  {
   "cell_type": "code",
   "execution_count": 358,
   "id": "viral-avatar",
   "metadata": {},
   "outputs": [
    {
     "data": {
      "text/plain": [
       "array([6.91248771e-01, 9.72222222e-01, 9.35060060e-01, 4.93787717e-01,\n",
       "       2.26287263e-01, 3.76451078e-01, 5.35353535e-01, 3.69380831e-01,\n",
       "       1.84892402e-01, 4.44444444e-01, 2.76248726e-01, 2.13901126e-01,\n",
       "       2.90514905e-01, 2.16972878e-01, 6.34502924e-01, 5.59050532e-01,\n",
       "       9.98120742e-01, 7.20019579e-01, 5.18042158e-02, 1.09914223e-01,\n",
       "       1.22605364e-01, 8.88888889e-01, 3.22508755e-01, 3.75767728e-01,\n",
       "       9.70294202e-01, 2.04444444e-02, 5.89743590e-01, 1.11111111e-01,\n",
       "       2.67221156e-01, 7.21236029e-01, 1.93486590e-01, 2.22222222e-01,\n",
       "       5.51613698e-01, 3.76068376e-01, 2.01201201e-01, 2.45751634e-01,\n",
       "       1.10199118e-01, 5.22003404e-01, 2.22222222e-01, 4.67836257e-01,\n",
       "       3.70870871e-01, 1.89964158e-01, 7.44880832e-01, 6.79186228e-02,\n",
       "       1.39577594e-01, 8.87560868e-01, 3.45509893e-01, 5.80822805e-01,\n",
       "       5.53280243e-01, 2.55099592e-01, 3.44211344e-01, 9.70595324e-01,\n",
       "       9.01960784e-01, 2.16871262e-01, 5.53639847e-01, 3.17734305e-01,\n",
       "       9.78280381e-02, 3.74368687e-01, 7.57020757e-02, 5.79154376e-01,\n",
       "       1.33986928e-01, 7.61471369e-01, 3.49206349e-01, 2.01618837e-01,\n",
       "       5.80116959e-01, 5.55555556e-01, 2.68376068e-01, 5.55555556e-01,\n",
       "       2.77777778e-01, 3.48310693e-04, 5.64613527e-01, 1.00000000e+00,\n",
       "       8.76068376e-02, 9.70793651e-01, 8.37138508e-02, 9.98084291e-01,\n",
       "       1.11111111e-01, 9.70566593e-01, 1.78398896e-01, 7.22222222e-01,\n",
       "       7.87905868e-01, 4.66093190e-01, 1.96315486e-01, 5.08667235e-01,\n",
       "       2.22222222e-01, 2.95693087e-01, 1.35871247e-01, 6.94989107e-01,\n",
       "       3.79218809e-01, 9.70406242e-01, 8.87222222e-01, 8.82046269e-01,\n",
       "       9.34222222e-01, 1.33040936e-01, 9.98421157e-01, 2.77777778e-02,\n",
       "       9.70725216e-01, 5.55555556e-01, 2.22222222e-01, 4.65465465e-01])"
      ]
     },
     "execution_count": 358,
     "metadata": {},
     "output_type": "execute_result"
    }
   ],
   "source": [
    "serv_ratio = (servs[:, 0] - servs[:, 1]) / (servs[:, 0] + servs[:, 1])\n",
    "vm_ratio = (vm[0] - vm[1]) / (vm[0] + vm[1])\n",
    "ratio_scrs = np.abs(serv_ratio - vm_ratio)\n",
    "ratio_scrs"
   ]
  },
  {
   "cell_type": "code",
   "execution_count": 208,
   "id": "biological-conflict",
   "metadata": {},
   "outputs": [
    {
     "data": {
      "text/plain": [
       "355.0"
      ]
     },
     "execution_count": 208,
     "metadata": {},
     "output_type": "execute_result"
    }
   ],
   "source": [
    "core_mid = np.median(servs[:, 0])\n",
    "core_mid"
   ]
  },
  {
   "cell_type": "code",
   "execution_count": 209,
   "id": "received-salvation",
   "metadata": {},
   "outputs": [
    {
     "data": {
      "text/plain": [
       "410.0"
      ]
     },
     "execution_count": 209,
     "metadata": {},
     "output_type": "execute_result"
    }
   ],
   "source": [
    "mem_mid = np.median(servs[:, 1])\n",
    "mem_mid"
   ]
  },
  {
   "cell_type": "code",
   "execution_count": 210,
   "id": "advised-poetry",
   "metadata": {},
   "outputs": [
    {
     "data": {
      "text/plain": [
       "818.0"
      ]
     },
     "execution_count": 210,
     "metadata": {},
     "output_type": "execute_result"
    }
   ],
   "source": [
    "size_mid = np.median(servs[:, 0] + servs[:, 1])\n",
    "size_mid"
   ]
  },
  {
   "cell_type": "code",
   "execution_count": 225,
   "id": "engaging-netscape",
   "metadata": {},
   "outputs": [
    {
     "data": {
      "text/plain": [
       "488.14"
      ]
     },
     "execution_count": 225,
     "metadata": {},
     "output_type": "execute_result"
    }
   ],
   "source": [
    "servs[:, 1].mean()"
   ]
  },
  {
   "cell_type": "code",
   "execution_count": 214,
   "id": "southeast-recognition",
   "metadata": {},
   "outputs": [
    {
     "data": {
      "text/plain": [
       "array([0.32787078, 0.28563454, 0.73116447, 0.29072492, 0.04480715,\n",
       "       0.11941472, 0.63986808, 0.49026363, 0.12252183, 0.2853701 ,\n",
       "       0.14297887, 0.14596111, 0.00116058, 0.53097202, 0.10229251,\n",
       "       0.72356195, 0.4517809 , 0.11403786, 0.04095814, 0.27606344,\n",
       "       0.33172713, 0.72356195, 0.00271047, 0.25815527, 0.25354234,\n",
       "       0.655602  , 0.56842639, 0.03244478, 0.3619389 , 0.24206877,\n",
       "       0.00791838, 0.00605264, 0.53623135, 0.33625192, 0.01175269,\n",
       "       0.16625655, 0.7131755 , 0.06280346, 0.1488038 , 0.25941134,\n",
       "       0.02686225, 0.0059498 , 0.08587547, 0.06370695, 0.07916908,\n",
       "       0.39585277, 0.09656307, 0.03760862, 0.04554169, 0.24898082,\n",
       "       0.16447161, 0.39124718, 0.13953386, 0.12390278, 0.57425866,\n",
       "       0.87896194, 0.24391247, 0.2089629 , 0.13900499, 0.03743968,\n",
       "       0.41318065, 0.45616612, 0.        , 0.1109895 , 0.04164126,\n",
       "       0.33224131, 0.57895974, 0.30623848, 0.15958689, 0.0488251 ,\n",
       "       0.03478797, 0.37653428, 0.1215302 , 0.56360044, 0.12936043,\n",
       "       0.42881907, 0.21445728, 0.37300847, 0.54889488, 0.09902379,\n",
       "       0.12238227, 0.65997987, 0.00359192, 0.72636056, 0.14288338,\n",
       "       0.14706293, 0.01297938, 0.15176401, 0.16575706, 0.29283306,\n",
       "       0.20841934, 0.14796642, 0.20925672, 0.15011128, 0.73391901,\n",
       "       0.05198363, 0.49345889, 0.16145998, 1.        , 0.09557144])"
      ]
     },
     "execution_count": 214,
     "metadata": {},
     "output_type": "execute_result"
    }
   ],
   "source": [
    "core_mem_dis = (servs[:, 0] - core_mid)**2 + (servs[:, 1] - mem_mid)**2\n",
    "core_mem_dis = (core_mem_dis - core_mem_dis.min()) / (core_mem_dis.max() - core_mem_dis.min())\n",
    "core_mem_dis"
   ]
  },
  {
   "cell_type": "code",
   "execution_count": 215,
   "id": "beautiful-shore",
   "metadata": {},
   "outputs": [
    {
     "data": {
      "text/plain": [
       "array([62, 12, 22, 82, 41, 31, 30, 34, 86, 40, 27, 70, 59, 47, 18, 64,  4,\n",
       "       48, 69, 95, 37, 43, 44, 42, 99, 46, 79, 14, 63, 17,  5, 72, 80,  8,\n",
       "       53, 74, 58, 52, 84, 10, 11, 85, 91, 38, 93, 87, 68, 97, 50, 88, 35,\n",
       "       90, 57, 92, 76, 29, 56, 49, 24, 23, 39, 19,  9,  1,  3, 89, 67,  0,\n",
       "       20, 65, 33, 28, 77, 71, 51, 45, 60, 75, 16, 61,  7, 96, 13, 32, 78,\n",
       "       73, 26, 54, 66,  6, 25, 81, 36, 21, 15, 83,  2, 94, 55, 98],\n",
       "      dtype=int64)"
      ]
     },
     "execution_count": 215,
     "metadata": {},
     "output_type": "execute_result"
    }
   ],
   "source": [
    "np.argsort(core_mem_dis)"
   ]
  },
  {
   "cell_type": "code",
   "execution_count": 221,
   "id": "verbal-formation",
   "metadata": {},
   "outputs": [
    {
     "data": {
      "text/plain": [
       "488.14"
      ]
     },
     "execution_count": 221,
     "metadata": {},
     "output_type": "execute_result"
    }
   ],
   "source": [
    "servs[:, 1].mean()"
   ]
  },
  {
   "cell_type": "code",
   "execution_count": 217,
   "id": "ignored-builder",
   "metadata": {},
   "outputs": [
    {
     "data": {
      "text/plain": [
       "array([   382,    438, 128590,    192])"
      ]
     },
     "execution_count": 217,
     "metadata": {},
     "output_type": "execute_result"
    }
   ],
   "source": [
    "servs[12]"
   ]
  },
  {
   "cell_type": "code",
   "execution_count": 223,
   "id": "reduced-hypothesis",
   "metadata": {},
   "outputs": [
    {
     "data": {
      "text/plain": [
       "887.18"
      ]
     },
     "execution_count": 223,
     "metadata": {},
     "output_type": "execute_result"
    }
   ],
   "source": [
    "np.mean(servs[:, 0] + servs[:, 1])"
   ]
  },
  {
   "cell_type": "code",
   "execution_count": 139,
   "id": "native-height",
   "metadata": {},
   "outputs": [
    {
     "data": {
      "text/plain": [
       "array([1130,  816, 1184, 1252,  984,  402,  990, 1048,  506,  756,  654,\n",
       "        454,  820, 1524,  456, 1526,  946,  454,  622, 1114, 1160, 1224,\n",
       "        698,  796,  778, 1500, 1404,  882, 1042, 1014,  696,  692,  902,\n",
       "       1352,  666,  340, 1462,  914,  364,  684,  592,  806,  662,  710,\n",
       "        484, 1004,  438,  686,  586,  926,  572,  922,  612,  706,  928,\n",
       "       1738, 1238,  704, 1092,  678, 1224, 1172,  756,  604,  760, 1248,\n",
       "       1560, 1224,  456,  638,  736,  882,  416, 1050,  438,  928, 1038,\n",
       "        906, 1288,  496,  746, 1550,  772, 1564,  468,  614,  718,  918,\n",
       "       1172,  826,  800,  682,  750,  912, 1126,  672, 1002, 1062, 1808,\n",
       "        444])"
      ]
     },
     "execution_count": 139,
     "metadata": {},
     "output_type": "execute_result"
    }
   ],
   "source": [
    "servs[:, 0] + servs[:, 1]"
   ]
  },
  {
   "cell_type": "code",
   "execution_count": 137,
   "id": "micro-adrian",
   "metadata": {},
   "outputs": [
    {
     "data": {
      "image/png": "[encoded data removed]",
      "text/plain": [
       "<Figure size 432x288 with 1 Axes>"
      ]
     },
     "metadata": {
      "needs_background": "light"
     },
     "output_type": "display_data"
    }
   ],
   "source": [
    "plt.plot((servs[:, 0] - servs[:, 1]) / (servs[:, 0] + servs[:, 1]), servs[:, 0] + servs[:, 1], 'o')\n",
    "ax = plt.gca()\n",
    "ax.set_xlim([-1, 1])\n",
    "plt.show()"
   ]
  },
  {
   "cell_type": "code",
   "execution_count": 55,
   "id": "liquid-consistency",
   "metadata": {},
   "outputs": [
    {
     "data": {
      "image/png": "[encoded data removed]",
      "text/plain": [
       "<Figure size 432x288 with 1 Axes>"
      ]
     },
     "metadata": {
      "needs_background": "light"
     },
     "output_type": "display_data"
    }
   ],
   "source": [
    "plt.scatter(servs[:, 0], servs[:, 1])\n",
    "plt.show()"
   ]
  },
  {
   "cell_type": "code",
   "execution_count": 138,
   "id": "piano-lesson",
   "metadata": {},
   "outputs": [
    {
     "data": {
      "image/png": "[encoded data removed]",
      "text/plain": [
       "<Figure size 504x504 with 1 Axes>"
      ]
     },
     "metadata": {
      "needs_background": "light"
     },
     "output_type": "display_data"
    }
   ],
   "source": [
    "fig = plt.figure()\n",
    "plt.scatter(vms[:, 0], vms[:, 1], alpha=0.1)\n",
    "ax = plt.gca()\n",
    "ax.set_aspect(1)\n",
    "fig.set_figwidth(7)\n",
    "fig.set_figheight(7)\n",
    "plt.show()"
   ]
  },
  {
   "cell_type": "code",
   "execution_count": 62,
   "id": "sustained-witch",
   "metadata": {},
   "outputs": [
    {
     "data": {
      "text/plain": [
       "(83463, 3)"
      ]
     },
     "execution_count": 62,
     "metadata": {},
     "output_type": "execute_result"
    }
   ],
   "source": [
    "vms[vm_ins].shape"
   ]
  },
  {
   "cell_type": "code",
   "execution_count": 93,
   "id": "hairy-transition",
   "metadata": {},
   "outputs": [
    {
     "data": {
      "image/png": "[encoded data removed]",
      "text/plain": [
       "<Figure size 504x504 with 1 Axes>"
      ]
     },
     "metadata": {
      "needs_background": "light"
     },
     "output_type": "display_data"
    }
   ],
   "source": [
    "fig = plt.figure()\n",
    "plt.scatter(vms[vm_ins][:, 0], vms[vm_ins][:, 1], alpha=0.05)\n",
    "ax = plt.gca()\n",
    "ax.set_aspect(1)\n",
    "fig.set_figwidth(7)\n",
    "fig.set_figheight(7)\n",
    "plt.show()"
   ]
  },
  {
   "cell_type": "code",
   "execution_count": 108,
   "id": "surprised-antarctica",
   "metadata": {},
   "outputs": [],
   "source": [
    "dist = (servs[:, 0] - np.median(servs[:, 0]))**2 + (servs[:, 1] - np.median(servs[:, 1]))**2\n",
    "idx_dist = np.argsort(dist)"
   ]
  },
  {
   "cell_type": "code",
   "execution_count": 111,
   "id": "beneficial-wagner",
   "metadata": {
    "scrolled": true
   },
   "outputs": [
    {
     "data": {
      "text/plain": [
       "array([[   330,    426, 125439,    132],\n",
       "       [   382,    438, 128590,    192],\n",
       "       [   314,    384, 116362,    122],\n",
       "       [   396,    376,  94817,    205],\n",
       "       [   416,    390, 131477,    195],\n",
       "       [   346,    346, 109936,    165],\n",
       "       [   358,    338, 122165,    128],\n",
       "       [   340,    326,  80840,    175],\n",
       "       [   390,    328, 107968,    163],\n",
       "       [   252,    340,  95594,    100],\n",
       "       [   490,    392, 162385,    169],\n",
       "       [   242,    494,  77102,    167],\n",
       "       [   218,    460, 101584,    105],\n",
       "       [   220,    466, 102898,    107],\n",
       "       [   364,    258,  79612,    173],\n",
       "       [   244,    516,  95705,    145],\n",
       "       [   490,    494, 121705,    265],\n",
       "       [   196,    390,  61037,    132],\n",
       "       [   390,    248,  83683,    182],\n",
       "       [   420,    252,  89170,    192],\n",
       "       [   320,    594, 119526,    178],\n",
       "       [   458,    252, 126817,    191],\n",
       "       [   262,    222,  78246,    118],\n",
       "       [   158,    504,  64519,    141],\n",
       "       [   168,    276,  47614,    101],\n",
       "       [   192,    246,  49346,    107],\n",
       "       [   124,    372,  57168,     85],\n",
       "       [   134,    322,  54362,     82],\n",
       "       [   430,    174, 112130,    166],\n",
       "       [   114,    340,  51836,     78],\n",
       "       [   170,    232,  64122,     68],\n",
       "       [   236,    180,  68555,    103],\n",
       "       [   162,    584,  86285,    129],\n",
       "       [   356,    150, 101230,    106],\n",
       "       [   508,    198, 133785,    202],\n",
       "       [   286,    152,  58299,    125],\n",
       "       [   626,    466, 191130,    286],\n",
       "       [    98,    514,  54967,    117],\n",
       "       [   338,    130,  86893,    131],\n",
       "       [   490,    164, 137825,    142],\n",
       "       [   326,    128,  63529,    136],\n",
       "       [   466,    148,  89946,    194],\n",
       "       [   116,    566,  75090,    112],\n",
       "       [   182,    182,  56553,     84],\n",
       "       [   618,    294, 128934,    279],\n",
       "       [   242,    676, 123319,    183],\n",
       "       [   342,    114,  65425,    140],\n",
       "       [   354,    708, 166791,    174],\n",
       "       [   448,    124,  85039,    185],\n",
       "       [   494,    678, 199234,    206],\n",
       "       [   166,    174,  56908,     60],\n",
       "       [   134,    666,  98228,    147],\n",
       "       [   562,    142, 106849,    232],\n",
       "       [   108,    642,  89722,    134],\n",
       "       [   692,    346, 146729,    315],\n",
       "       [   254,    760, 103216,    224],\n",
       "       [   696,    542, 196367,    294],\n",
       "       [   684,    242, 181736,    272],\n",
       "       [    98,    680,  91928,    139],\n",
       "       [   636,    160, 146649,    222],\n",
       "       [   578,    106, 128923,    193],\n",
       "       [   742,    372, 228407,    238],\n",
       "       [   630,    126, 142266,    213],\n",
       "       [   102,    714,  73229,    159],\n",
       "       [   456,    796, 170212,    256],\n",
       "       [   104,    722,  74179,    160],\n",
       "       [   408,    816, 179239,    270],\n",
       "       [   300,    830, 170076,    177],\n",
       "       [   780,    380, 240202,    250],\n",
       "       [   416,    832, 183088,    273],\n",
       "       [   572,    780, 161144,    347],\n",
       "       [   776,    266, 188057,    281],\n",
       "       [   114,    792, 119666,    125],\n",
       "       [    98,    784,  79237,    171],\n",
       "       [   116,    806, 100893,    150],\n",
       "       [   168,    836, 115315,    172],\n",
       "       [   830,    394, 235678,    353],\n",
       "       [   104,    824, 100817,    152],\n",
       "       [   106,    840, 103866,    156],\n",
       "       [   270,    902, 119029,    257],\n",
       "       [   834,    214, 164051,    354],\n",
       "       [   126,    876, 111662,    165],\n",
       "       [   766,    758, 236109,    355],\n",
       "       [   800,    102, 179415,    271],\n",
       "       [   902,    386, 274092,    286],\n",
       "       [   132,    918,  98674,    214],\n",
       "       [   444,    960, 188175,    280],\n",
       "       [   824,    104, 204688,    306],\n",
       "       [   744,    816, 198657,    430],\n",
       "       [   870,    120, 236918,    247],\n",
       "       [   932,    568, 213775,    463],\n",
       "       [   586,    964, 241036,    361],\n",
       "       [   974,    488, 214132,    461],\n",
       "       [   204,   1020, 144764,    218],\n",
       "       [   506,   1020, 208097,    312],\n",
       "       [   558,   1006, 260849,    271],\n",
       "       [   170,   1014, 164248,    171],\n",
       "       [   126,   1000, 139297,    209],\n",
       "       [   786,    952, 263283,    395],\n",
       "       [   904,    904, 238303,    514]])"
      ]
     },
     "execution_count": 111,
     "metadata": {},
     "output_type": "execute_result"
    }
   ],
   "source": [
    "servs[idx_dist]"
   ]
  },
  {
   "cell_type": "code",
   "execution_count": 125,
   "id": "automated-berlin",
   "metadata": {
    "scrolled": true
   },
   "outputs": [
    {
     "data": {
      "text/plain": [
       "array([[   354,    708, 166791,    174],\n",
       "       [   408,    816, 179239,    270],\n",
       "       [   416,    832, 183088,    273],\n",
       "       [   196,    390,  61037,    132],\n",
       "       [   506,   1020, 208097,    312],\n",
       "       [   242,    494,  77102,    167],\n",
       "       [   218,    460, 101584,    105],\n",
       "       [   244,    516,  95705,    145],\n",
       "       [   220,    466, 102898,    107],\n",
       "       [   444,    960, 188175,    280],\n",
       "       [   320,    594, 119526,    178],\n",
       "       [   558,   1006, 260849,    271],\n",
       "       [   456,    796, 170212,    256],\n",
       "       [   134,    322,  54362,     82],\n",
       "       [   586,    964, 241036,    361],\n",
       "       [   168,    276,  47614,    101],\n",
       "       [   300,    830, 170076,    177],\n",
       "       [   242,    676, 123319,    183],\n",
       "       [   114,    340,  51836,     78],\n",
       "       [   254,    760, 103216,    224],\n",
       "       [   124,    372,  57168,     85],\n",
       "       [   158,    504,  64519,    141],\n",
       "       [   270,    902, 119029,    257],\n",
       "       [   162,    584,  86285,    129],\n",
       "       [   494,    678, 199234,    206],\n",
       "       [   170,    232,  64122,     68],\n",
       "       [   572,    780, 161144,    347],\n",
       "       [   252,    340,  95594,    100],\n",
       "       [   330,    426, 125439,    132],\n",
       "       [   192,    246,  49346,    107],\n",
       "       [   116,    566,  75090,    112],\n",
       "       [   134,    666,  98228,    147],\n",
       "       [   168,    836, 115315,    172],\n",
       "       [   204,   1020, 144764,    218],\n",
       "       [    98,    514,  54967,    117],\n",
       "       [   314,    384, 116362,    122],\n",
       "       [   786,    952, 263283,    395],\n",
       "       [   108,    642,  89722,    134],\n",
       "       [   170,   1014, 164248,    171],\n",
       "       [    98,    680,  91928,    139],\n",
       "       [   104,    722,  74179,    160],\n",
       "       [   114,    792, 119666,    125],\n",
       "       [   116,    806, 100893,    150],\n",
       "       [   126,    876, 111662,    165],\n",
       "       [   132,    918,  98674,    214],\n",
       "       [   102,    714,  73229,    159],\n",
       "       [   382,    438, 128590,    192],\n",
       "       [   104,    824, 100817,    152],\n",
       "       [   106,    840, 103866,    156],\n",
       "       [   126,   1000, 139297,    209],\n",
       "       [    98,    784,  79237,    171],\n",
       "       [   744,    816, 198657,    430],\n",
       "       [   166,    174,  56908,     60],\n",
       "       [   490,    494, 121705,    265],\n",
       "       [   904,    904, 238303,    514],\n",
       "       [   182,    182,  56553,     84],\n",
       "       [   346,    346, 109936,    165],\n",
       "       [   766,    758, 236109,    355],\n",
       "       [   340,    326,  80840,    175],\n",
       "       [   396,    376,  94817,    205],\n",
       "       [   358,    338, 122165,    128],\n",
       "       [   416,    390, 131477,    195],\n",
       "       [   262,    222,  78246,    118],\n",
       "       [   390,    328, 107968,    163],\n",
       "       [   490,    392, 162385,    169],\n",
       "       [   696,    542, 196367,    294],\n",
       "       [   236,    180,  68555,    103],\n",
       "       [   626,    466, 191130,    286],\n",
       "       [   364,    258,  79612,    173],\n",
       "       [   390,    248,  83683,    182],\n",
       "       [   932,    568, 213775,    463],\n",
       "       [   420,    252,  89170,    192],\n",
       "       [   458,    252, 126817,    191],\n",
       "       [   286,    152,  58299,    125],\n",
       "       [   742,    372, 228407,    238],\n",
       "       [   974,    488, 214132,    461],\n",
       "       [   692,    346, 146729,    315],\n",
       "       [   780,    380, 240202,    250],\n",
       "       [   618,    294, 128934,    279],\n",
       "       [   830,    394, 235678,    353],\n",
       "       [   902,    386, 274092,    286],\n",
       "       [   356,    150, 101230,    106],\n",
       "       [   430,    174, 112130,    166],\n",
       "       [   326,    128,  63529,    136],\n",
       "       [   508,    198, 133785,    202],\n",
       "       [   338,    130,  86893,    131],\n",
       "       [   684,    242, 181736,    272],\n",
       "       [   776,    266, 188057,    281],\n",
       "       [   490,    164, 137825,    142],\n",
       "       [   342,    114,  65425,    140],\n",
       "       [   466,    148,  89946,    194],\n",
       "       [   448,    124,  85039,    185],\n",
       "       [   834,    214, 164051,    354],\n",
       "       [   562,    142, 106849,    232],\n",
       "       [   636,    160, 146649,    222],\n",
       "       [   630,    126, 142266,    213],\n",
       "       [   578,    106, 128923,    193],\n",
       "       [   870,    120, 236918,    247],\n",
       "       [   800,    102, 179415,    271],\n",
       "       [   824,    104, 204688,    306]])"
      ]
     },
     "execution_count": 125,
     "metadata": {},
     "output_type": "execute_result"
    }
   ],
   "source": [
    "idx = np.argsort(np.abs(serv_core_mem_ratios - 0.5))\n",
    "servs[idx]"
   ]
  },
  {
   "cell_type": "code",
   "execution_count": 204,
   "id": "postal-beast",
   "metadata": {},
   "outputs": [
    {
     "data": {
      "image/png": "[encoded data removed]",
      "text/plain": [
       "<Figure size 432x288 with 1 Axes>"
      ]
     },
     "metadata": {
      "needs_background": "light"
     },
     "output_type": "display_data"
    }
   ],
   "source": [
    "plt.hist(vm_ins_core_mem_ratios, bins=100, range=(0, 5))\n",
    "plt.show()"
   ]
  },
  {
   "cell_type": "code",
   "execution_count": 200,
   "id": "overhead-delicious",
   "metadata": {},
   "outputs": [
    {
     "data": {
      "image/png": "[encoded data removed]",
      "text/plain": [
       "<Figure size 432x288 with 1 Axes>"
      ]
     },
     "metadata": {
      "needs_background": "light"
     },
     "output_type": "display_data"
    }
   ],
   "source": [
    "plt.hist(serv_core_mem_ratios, bins=100, range=(1, 10))\n",
    "plt.show()"
   ]
  },
  {
   "cell_type": "code",
   "execution_count": 72,
   "id": "irish-token",
   "metadata": {},
   "outputs": [
    {
     "data": {
      "text/plain": [
       "(array([38, 38, 69], dtype=int64), array([0, 1, 3], dtype=int64))"
      ]
     },
     "execution_count": 72,
     "metadata": {},
     "output_type": "execute_result"
    }
   ],
   "source": [
    "np.where(servs == 182)"
   ]
  },
  {
   "cell_type": "code",
   "execution_count": 22,
   "id": "accomplished-station",
   "metadata": {},
   "outputs": [
    {
     "data": {
      "text/plain": [
       "0.7746478873239436"
      ]
     },
     "execution_count": 22,
     "metadata": {},
     "output_type": "execute_result"
    }
   ],
   "source": [
    "330 / 426"
   ]
  },
  {
   "cell_type": "code",
   "execution_count": 12,
   "id": "automatic-appeal",
   "metadata": {},
   "outputs": [
    {
     "data": {
      "text/plain": [
       "array([  340,   326, 80840,   175])"
      ]
     },
     "execution_count": 12,
     "metadata": {},
     "output_type": "execute_result"
    }
   ],
   "source": [
    "servs[]"
   ]
  },
  {
   "cell_type": "code",
   "execution_count": 12,
   "id": "directed-count",
   "metadata": {},
   "outputs": [
    {
     "data": {
      "text/plain": [
       "(800, 3)"
      ]
     },
     "execution_count": 12,
     "metadata": {},
     "output_type": "execute_result"
    }
   ],
   "source": [
    "vms.shape"
   ]
  },
  {
   "cell_type": "code",
   "execution_count": 4,
   "id": "fantastic-digit",
   "metadata": {},
   "outputs": [],
   "source": [
    "svms = []\n",
    "dvms = []\n",
    "for vm in vms:\n",
    "    if vm[2] == 0:\n",
    "        svms.append(vm.tolist())\n",
    "    if vm[2] == 1:\n",
    "        dvms.append(vm.tolist())\n",
    "svms = np.array(svms)\n",
    "dvms = np.array(dvms)"
   ]
  },
  {
   "cell_type": "code",
   "execution_count": 29,
   "id": "rolled-italy",
   "metadata": {},
   "outputs": [
    {
     "data": {
      "text/plain": [
       "(388,)"
      ]
     },
     "execution_count": 29,
     "metadata": {},
     "output_type": "execute_result"
    }
   ],
   "source": [
    "svms[:, 0].shape"
   ]
  },
  {
   "cell_type": "code",
   "execution_count": 20,
   "id": "assumed-viking",
   "metadata": {},
   "outputs": [
    {
     "data": {
      "text/plain": [
       "array([48, 63, 53, 64, 14, 40, 51, 96, 84, 82])"
      ]
     },
     "execution_count": 20,
     "metadata": {},
     "output_type": "execute_result"
    }
   ],
   "source": [
    "svms[:10, 0]"
   ]
  },
  {
   "cell_type": "code",
   "execution_count": 41,
   "id": "addressed-tiger",
   "metadata": {},
   "outputs": [
    {
     "data": {
      "text/plain": [
       "(3, 388)"
      ]
     },
     "execution_count": 41,
     "metadata": {},
     "output_type": "execute_result"
    }
   ],
   "source": [
    "b_ub.shape"
   ]
  },
  {
   "cell_type": "code",
   "execution_count": 5,
   "id": "inner-involvement",
   "metadata": {},
   "outputs": [],
   "source": [
    "c = svms[:, 0] + svms[:, 1]\n",
    "A_ub = []\n",
    "A_ub.append((svms[:, 0] + svms[:, 1]).tolist())\n",
    "A_ub.append(svms[:, 0].tolist())\n",
    "A_ub.append(svms[:, 1].tolist())\n",
    "A_ub = np.array(A_ub)\n",
    "b_ub = [servs[0][0] + servs[0][1], servs[0][0], servs[0][1]]\n",
    "b_ub = np.array(b_ub)\n",
    "A_eq = np.zeros_like(svms[:, 0])\n",
    "b_eq = [0]\n",
    "x = np.expand_dims(np.array([0, 10]), axis=0).repeat(388, axis=0)"
   ]
  },
  {
   "cell_type": "code",
   "execution_count": 23,
   "id": "nonprofit-hotel",
   "metadata": {},
   "outputs": [
    {
     "data": {
      "text/plain": [
       "array([1130,  300,  830])"
      ]
     },
     "execution_count": 23,
     "metadata": {},
     "output_type": "execute_result"
    }
   ],
   "source": [
    "b_ub"
   ]
  },
  {
   "cell_type": "code",
   "execution_count": 22,
   "id": "silent-focus",
   "metadata": {},
   "outputs": [
    {
     "data": {
      "text/plain": [
       "array([[50, 66, 56, ..., 33, 59, 61],\n",
       "       [48, 63, 53, ...,  1,  1,  1],\n",
       "       [ 2,  3,  3, ..., 32, 58, 60]])"
      ]
     },
     "execution_count": 22,
     "metadata": {},
     "output_type": "execute_result"
    }
   ],
   "source": [
    "A_ub"
   ]
  },
  {
   "cell_type": "code",
   "execution_count": 1,
   "id": "posted-digit",
   "metadata": {},
   "outputs": [],
   "source": [
    "import math\n",
    "from scipy.optimize import linprog\n",
    "import sys\n",
    "\n",
    "def integerPro(c, A, b, Aeq, beq,t=1.0E-12):\n",
    "    # 求解松弛问题\n",
    "    res = linprog(c, A_ub=A, b_ub=b, A_eq=Aeq, b_eq=beq)\n",
    "    bestVal = sys.maxsize\n",
    "    bestX = res.x\n",
    "    if not(type(res.x) is float or res.status != 0): \n",
    "        bestVal = sum([x*y for x,y in zip(c, bestX)])\n",
    "    # 停止条件 & bound\n",
    "    if all(((x-math.floor(x))<t or (math.ceil(x)-x)<t) for x in bestX):\n",
    "        return (bestVal,bestX)\n",
    "    else:\n",
    "        # 进行branch，这里简单选择第一个非整数变量\n",
    "        ind = [i for i, x in enumerate(bestX) if (x-math.floor(x))>t and (math.ceil(x)-x)>t][0]\n",
    "        # branch出两个子问题\n",
    "        newCon1 = [0]*len(A[0])\n",
    "        newCon2 = [0]*len(A[0])\n",
    "        newCon1[ind] = -1\n",
    "        newCon2[ind] = 1\n",
    "        newA1 = A.copy()\n",
    "        newA2 = A.copy()\n",
    "        newA1.append(newCon1)\n",
    "        newA2.append(newCon2)\n",
    "        newB1 = b.copy()\n",
    "        newB2 = b.copy()\n",
    "        newB1.append(-math.ceil(bestX[ind]))\n",
    "        newB2.append(math.floor(bestX[ind]))\n",
    "        r1 = integerPro(c, newA1, newB1, Aeq, beq)\n",
    "        r2 = integerPro(c, newA2, newB2, Aeq, beq)\n",
    "        # tree search，这里使用width first\n",
    "        if r1[0] < r2[0]:\n",
    "            return r1\n",
    "        else:\n",
    "            return r2\n"
   ]
  },
  {
   "cell_type": "code",
   "execution_count": 17,
   "id": "recorded-shooting",
   "metadata": {},
   "outputs": [
    {
     "data": {
      "text/plain": [
       "(388,)"
      ]
     },
     "execution_count": 17,
     "metadata": {},
     "output_type": "execute_result"
    }
   ],
   "source": [
    "A_eq.shape"
   ]
  },
  {
   "cell_type": "code",
   "execution_count": 18,
   "id": "viral-thought",
   "metadata": {
    "scrolled": true
   },
   "outputs": [
    {
     "data": {
      "text/plain": [
       "(1.2099403592059206e-12,\n",
       " array([2.51040335e-17, 2.29680853e-17, 2.81366254e-17, 2.54577456e-17,\n",
       "        5.34759919e-18, 3.92506317e-17, 3.75948343e-17, 2.05134877e-17,\n",
       "        2.39167810e-17, 2.47227459e-17, 2.39512448e-17, 1.84891608e-17,\n",
       "        1.24016095e-16, 4.38381507e-17, 1.75514447e-16, 4.50278925e-17,\n",
       "        4.75956841e-17, 4.22559477e-17, 3.27347086e-17, 2.24488862e-17,\n",
       "        2.71342832e-17, 2.02107040e-17, 6.86085522e-17, 2.12816345e-17,\n",
       "        1.47028398e-16, 5.35924589e-17, 3.89959776e-17, 1.25515405e-16,\n",
       "        4.95354453e-17, 2.11162220e-17, 5.20653969e-17, 3.87077152e-17,\n",
       "        2.76670150e-17, 3.67460273e-16, 3.33391549e-17, 2.35525735e-17,\n",
       "        4.00933980e-17, 2.49041647e-17, 1.77301290e-16, 2.40022245e-17,\n",
       "        2.49625538e-17, 2.69978652e-17, 2.65946621e-17, 2.40304269e-17,\n",
       "        2.00682965e-16, 3.58875580e-17, 6.80435930e-17, 4.97153857e-17,\n",
       "        3.12574628e-17, 9.92377484e-17, 3.40030798e-17, 2.73452753e-17,\n",
       "        4.82247110e-17, 2.56385384e-17, 5.99154378e-17, 2.50768707e-17,\n",
       "        2.53283184e-17, 8.26098530e-17, 2.57644238e-17, 2.59426263e-17,\n",
       "        6.02039779e-17, 4.01947021e-17, 4.63485373e-17, 3.14530011e-17,\n",
       "        2.70298328e-17, 6.16778593e-17, 2.57952683e-17, 4.48258348e-17,\n",
       "        2.63569756e-17, 8.95086423e-17, 3.56916210e-17, 2.65113170e-17,\n",
       "        2.64037124e-17, 2.75886899e-17, 2.59131688e-17, 6.29319460e-17,\n",
       "        3.88560635e-17, 5.28861498e-17, 1.47731768e-16, 2.60156971e-17,\n",
       "        2.70921400e-17, 3.02745229e-17, 2.60470864e-17, 2.58454714e-17,\n",
       "        3.61036017e-17, 3.42598994e-17, 2.64975222e-17, 7.81629746e-17,\n",
       "        4.62285893e-17, 6.39569196e-17, 2.59132705e-17, 2.58096668e-17,\n",
       "        2.63387512e-17, 1.14732346e-16, 1.33467616e-16, 1.33467616e-16,\n",
       "        3.65644688e-17, 3.02704120e-17, 5.47032393e-17, 3.27289242e-17,\n",
       "        2.60116992e-17, 2.55975620e-17, 2.63805224e-17, 7.19624789e-17,\n",
       "        2.44835891e-16, 2.71429616e-17, 3.18442951e-17, 2.86634764e-17,\n",
       "        3.33263185e-17, 3.20127019e-17, 4.95775817e-17, 9.87889321e-17,\n",
       "        2.66571058e-17, 4.32479357e-17, 2.79592626e-17, 3.20571234e-17,\n",
       "        2.71289272e-17, 2.61801342e-17, 3.12226983e-17, 2.54962790e-17,\n",
       "        2.96124100e-17, 3.33433719e-17, 3.09767267e-17, 3.09767267e-17,\n",
       "        2.67077951e-17, 3.78695461e-17, 2.58963760e-17, 4.60722153e-17,\n",
       "        2.47304376e-17, 2.47304376e-17, 2.79167302e-17, 2.69770934e-17,\n",
       "        3.01950799e-17, 3.98050869e-17, 2.61697091e-17, 4.52349755e-17,\n",
       "        5.93011067e-17, 2.46973902e-17, 9.93737191e-16, 3.46840274e-17,\n",
       "        3.13724512e-17, 3.42557664e-17, 2.66933539e-17, 2.44192990e-17,\n",
       "        4.69590149e-17, 5.09804656e-17, 3.70189658e-17, 2.82596602e-17,\n",
       "        4.68868598e-15, 3.25305900e-17, 2.47103836e-16, 4.68868598e-15,\n",
       "        2.69770934e-17, 1.55920052e-16, 3.29325811e-17, 3.45242500e-17,\n",
       "        3.76721715e-17, 3.16249628e-17, 2.36382548e-17, 2.40032671e-17,\n",
       "        2.44420668e-17, 3.56815758e-17, 3.38151952e-17, 3.11118139e-17,\n",
       "        2.68185321e-17, 2.44389225e-17, 4.01594149e-17, 1.34310272e-16,\n",
       "        3.43325781e-17, 2.64574868e-17, 5.63306351e-17, 3.59187769e-17,\n",
       "        2.76528883e-17, 2.64423935e-17, 2.71763520e-17, 2.35181808e-17,\n",
       "        2.50538945e-17, 5.70862072e-17, 2.49154680e-17, 2.95588828e-17,\n",
       "        2.42037961e-17, 2.44548650e-17, 2.43571121e-17, 3.42988159e-17,\n",
       "        4.76702300e-17, 2.84351575e-17, 1.72578332e-16, 3.35098973e-17,\n",
       "        3.73341854e-17, 3.43670100e-17, 3.06093300e-17, 2.69937381e-17,\n",
       "        2.40377092e-17, 2.51434788e-17, 2.26847610e-17, 7.79873425e-17,\n",
       "        2.23498434e-17, 2.99435718e-17, 5.09163109e-16, 3.86454891e-17,\n",
       "        9.38066080e-17, 2.41077636e-17, 5.40231439e-17, 2.63554870e-17,\n",
       "        2.69354350e-17, 2.08577658e-17, 8.19177582e-17, 2.48229495e-17,\n",
       "        1.08228375e-16, 4.15759213e-17, 6.18544903e-17, 2.83487727e-17,\n",
       "        2.08155538e-17, 2.02088484e-17, 8.40232557e-17, 2.14272654e-17,\n",
       "        4.00123065e-17, 2.20813586e-17, 2.09347058e-17, 2.17903698e-17,\n",
       "        2.13892946e-17, 1.61491977e-16, 2.15717941e-17, 2.07207470e-17,\n",
       "        1.96507847e-17, 2.88335146e-17, 2.63405472e-17, 1.95895589e-17,\n",
       "        2.23884452e-17, 2.01018259e-17, 2.19270957e-17, 1.33523768e-16,\n",
       "        1.88983464e-17, 1.91589790e-17, 2.85876782e-17, 2.04039626e-17,\n",
       "        1.88983464e-17, 1.88335773e-17, 3.56032538e-17, 3.56032538e-17,\n",
       "        6.46327325e-16, 6.46327325e-16, 2.22055058e-17, 4.76345394e-17,\n",
       "        3.31314538e-17, 2.38435409e-17, 4.52691037e-17, 1.80643440e-17,\n",
       "        3.16544217e-17, 1.89257879e-17, 1.83766985e-17, 3.46756714e-17,\n",
       "        1.72391685e-17, 1.81589156e-17, 2.85840954e-17, 7.16459670e-17,\n",
       "        2.81259785e-17, 1.63781054e-17, 1.74492576e-17, 9.55203996e-17,\n",
       "        1.69149469e-17, 1.61590925e-17, 3.23032620e-17, 4.71615929e-17,\n",
       "        2.70443762e-17, 1.72871863e-17, 1.57238228e-17, 3.41661146e-17,\n",
       "        2.34702123e-17, 9.77263388e-17, 1.55359915e-17, 3.03190632e-17,\n",
       "        2.09261948e-17, 1.57238228e-17, 4.33324158e-15, 3.03190632e-17,\n",
       "        3.94243107e-17, 5.74632003e-17, 1.99743412e-17, 1.52895410e-17,\n",
       "        2.90394464e-17, 1.64772593e-17, 1.49784521e-17, 1.49182287e-17,\n",
       "        1.61050353e-17, 2.15135717e-17, 2.45645606e-17, 1.52074495e-17,\n",
       "        1.49471685e-17, 7.94219471e-16, 1.85694666e-17, 2.38512659e-17,\n",
       "        2.02565960e-17, 1.36366721e-17, 1.38296930e-17, 1.43305237e-17,\n",
       "        1.68836427e-17, 1.44676235e-17, 2.78926502e-17, 1.40287315e-17,\n",
       "        1.44829176e-17, 1.01106965e-16, 1.23896064e-15, 2.00316656e-17,\n",
       "        2.22154703e-17, 1.40860731e-17, 1.63267300e-17, 1.29614209e-17,\n",
       "        2.88828947e-16, 1.01106965e-16, 5.62396783e-16, 1.67380494e-17,\n",
       "        1.14116341e-16, 1.19787645e-17, 2.20435542e-17, 1.23828028e-17,\n",
       "        1.20292032e-17, 1.13858276e-17, 1.16142035e-17, 1.14270662e-17,\n",
       "        1.13145337e-17, 9.08792325e-17, 1.23828028e-17, 1.12972047e-17,\n",
       "        5.53217075e-17, 1.33929114e-17, 1.12724701e-17, 1.13858276e-17,\n",
       "        2.44445192e-15, 1.17467965e-17, 1.10204045e-17, 1.76243562e-17,\n",
       "        2.79949639e-17, 1.57136259e-17, 1.17326656e-17, 1.01031120e-17,\n",
       "        1.17326656e-17, 1.79934842e-17, 5.73107015e-16, 1.08343255e-17,\n",
       "        1.79934842e-17, 1.01031120e-17, 1.03473392e-17, 2.83943296e-17,\n",
       "        1.58149724e-17, 1.03526082e-17, 9.85408427e-18, 9.37085098e-18,\n",
       "        9.20312369e-18, 1.44828990e-16, 2.15828388e-17, 1.02467882e-17,\n",
       "        3.39528321e-17, 1.31822374e-17, 9.38525663e-18, 1.31822374e-17,\n",
       "        9.38525663e-18, 9.57074105e-18, 9.38525663e-18, 1.90924687e-17,\n",
       "        2.28770658e-17, 1.21195100e-17, 1.53643971e-17, 2.28770658e-17,\n",
       "        9.25442643e-18, 9.79139868e-17, 9.25442643e-18, 1.21195100e-17,\n",
       "        4.21208316e-17, 1.98971449e-17, 8.24096274e-18, 8.23517494e-18,\n",
       "        7.83725629e-18, 7.55168038e-18, 4.34555932e-17, 7.31957453e-18,\n",
       "        3.92662680e-17, 3.16503251e-17, 5.80248693e-18, 5.33274147e-18,\n",
       "        1.50098560e-17, 1.19830517e-16, 5.18336938e-18, 4.77072999e-17,\n",
       "        5.17174844e-18, 3.00345905e-17, 4.81232774e-18, 4.55084131e-18]))"
      ]
     },
     "execution_count": 18,
     "metadata": {},
     "output_type": "execute_result"
    }
   ],
   "source": [
    "integerPro(c, A_ub, b_ub, None, None)"
   ]
  },
  {
   "cell_type": "code",
   "execution_count": 30,
   "id": "african-samba",
   "metadata": {},
   "outputs": [
    {
     "data": {
      "text/plain": [
       "array([   300,    830, 170076,    442])"
      ]
     },
     "execution_count": 30,
     "metadata": {},
     "output_type": "execute_result"
    }
   ],
   "source": [
    "servs[0]"
   ]
  },
  {
   "cell_type": "code",
   "execution_count": 31,
   "id": "juvenile-indication",
   "metadata": {},
   "outputs": [
    {
     "data": {
      "text/plain": [
       "array([48,  2,  0])"
      ]
     },
     "execution_count": 31,
     "metadata": {},
     "output_type": "execute_result"
    }
   ],
   "source": [
    "svms[0]"
   ]
  },
  {
   "cell_type": "code",
   "execution_count": null,
   "id": "environmental-hopkins",
   "metadata": {},
   "outputs": [],
   "source": [
    "c = [3,4,1]\n",
    "A = [[-1,-6,-2],[-2,0,0]]\n",
    "b = [-5,-3]\n",
    "Aeq = [[0,0,0]]\n",
    "beq = [0]\n",
    "print(integerPro(c, A, b, Aeq, beq))"
   ]
  },
  {
   "cell_type": "code",
   "execution_count": 79,
   "id": "comic-dealer",
   "metadata": {},
   "outputs": [
    {
     "data": {
      "text/plain": [
       "array([[48,  2,  0],\n",
       "       [63,  3,  0],\n",
       "       [53,  3,  0],\n",
       "       ...,\n",
       "       [ 1, 32,  0],\n",
       "       [ 1, 58,  0],\n",
       "       [ 1, 60,  0]])"
      ]
     },
     "execution_count": 79,
     "metadata": {},
     "output_type": "execute_result"
    }
   ],
   "source": [
    "svms"
   ]
  },
  {
   "cell_type": "code",
   "execution_count": 76,
   "id": "worldwide-turtle",
   "metadata": {
    "scrolled": true
   },
   "outputs": [
    {
     "data": {
      "text/plain": [
       "51.0"
      ]
     },
     "execution_count": 76,
     "metadata": {},
     "output_type": "execute_result"
    }
   ],
   "source": [
    " servs[1, 0] / 2"
   ]
  },
  {
   "cell_type": "code",
   "execution_count": 77,
   "id": "talented-stewart",
   "metadata": {},
   "outputs": [
    {
     "data": {
      "text/plain": [
       "357.0"
      ]
     },
     "execution_count": 77,
     "metadata": {},
     "output_type": "execute_result"
    }
   ],
   "source": [
    "servs[1, 1] / 2"
   ]
  },
  {
   "cell_type": "code",
   "execution_count": 119,
   "id": "other-muscle",
   "metadata": {},
   "outputs": [
    {
     "data": {
      "text/plain": [
       "array([[ 7, 10,  0],\n",
       "       [26, 52,  0],\n",
       "       [ 1,  3,  0],\n",
       "       [ 1, 28,  0],\n",
       "       [ 2, 33,  0]])"
      ]
     },
     "execution_count": 119,
     "metadata": {},
     "output_type": "execute_result"
    }
   ],
   "source": [
    "svms[[198, 226, 274, 383, 377]]"
   ]
  },
  {
   "cell_type": "code",
   "execution_count": 1,
   "id": "improved-commonwealth",
   "metadata": {},
   "outputs": [],
   "source": [
    "from mip import *"
   ]
  },
  {
   "cell_type": "code",
   "execution_count": 140,
   "id": "built-endorsement",
   "metadata": {},
   "outputs": [],
   "source": [
    "m = Model(sense=MAXIMIZE)"
   ]
  },
  {
   "cell_type": "code",
   "execution_count": 141,
   "id": "downtown-wholesale",
   "metadata": {},
   "outputs": [],
   "source": [
    "x = [m.add_var(var_type=INTEGER, lb=0, ub=10) for i in range(388)]"
   ]
  },
  {
   "cell_type": "code",
   "execution_count": 82,
   "id": "vocational-renewal",
   "metadata": {},
   "outputs": [],
   "source": [
    "# m += xsum((svms[i, 0] + svms[i, 1]) * x[i] for i in range(388)) <= servs[0, 0] + servs[0, 1]"
   ]
  },
  {
   "cell_type": "code",
   "execution_count": 146,
   "id": "entertaining-charm",
   "metadata": {},
   "outputs": [],
   "source": [
    "svms[151, 0] = 0\n",
    "svms[151, 1] = 0\n",
    "svms[148, 0] = 0\n",
    "svms[148, 1] = 0\n",
    "svms[4, [0, 1]] = 0\n",
    "svms[12, [0, 1]] = 0\n",
    "svms[198, [0, 1]] = 0\n",
    "svms[38, [0, 1]] = 0\n",
    "svms[373, [0, 1]] = 0"
   ]
  },
  {
   "cell_type": "code",
   "execution_count": 147,
   "id": "portuguese-dealing",
   "metadata": {},
   "outputs": [],
   "source": [
    "m += xsum(svms[i, 0] * x[i] for i in range(388)) <= servs[2][0] / 2"
   ]
  },
  {
   "cell_type": "code",
   "execution_count": 148,
   "id": "russian-discount",
   "metadata": {},
   "outputs": [],
   "source": [
    "m += xsum(svms[i, 1] * x[i] for i in range(388)) <= servs[2][1] / 2"
   ]
  },
  {
   "cell_type": "code",
   "execution_count": 149,
   "id": "accepted-massachusetts",
   "metadata": {},
   "outputs": [],
   "source": [
    "m.objective = xsum((svms[i, 0] + svms[i, 1]) * x[i] for i in range(388))"
   ]
  },
  {
   "cell_type": "code",
   "execution_count": 150,
   "id": "acting-lingerie",
   "metadata": {},
   "outputs": [
    {
     "name": "stdout",
     "output_type": "stream",
     "text": [
      "optimal solution cost 592.0 found\n",
      "solution:\n",
      "var(14) : 2.0\n",
      "var(274) : 9.0\n",
      "var(302) : 10.0\n",
      "var(328) : 10.0\n",
      "var(338) : 2.0\n",
      "var(381) : 10.0\n",
      "var(383) : 4.0\n"
     ]
    }
   ],
   "source": [
    "m.max_gap = 0.05\n",
    "status = m.optimize(max_seconds=300)\n",
    "if status == OptimizationStatus.OPTIMAL:\n",
    "    print('optimal solution cost {} found'.format(m.objective_value))\n",
    "elif status == OptimizationStatus.FEASIBLE:\n",
    "    print('sol.cost {} found, best possible: {}'.format(m.objective_value, m.objective_bound))\n",
    "elif status == OptimizationStatus.NO_SOLUTION_FOUND:\n",
    "    print('no feasible solution found, lower bound is: {}'.format(m.objective_bound))\n",
    "if status == OptimizationStatus.OPTIMAL or status == OptimizationStatus.FEASIBLE:\n",
    "    print('solution:')\n",
    "    for v in m.vars:\n",
    "        if abs(v.x) > 1e-6: # only printing non-zeros\n",
    "            print('{} : {}'.format(v.name, v.x))"
   ]
  },
  {
   "cell_type": "code",
   "execution_count": 165,
   "id": "constitutional-syracuse",
   "metadata": {},
   "outputs": [
    {
     "data": {
      "text/plain": [
       "414"
      ]
     },
     "execution_count": 165,
     "metadata": {},
     "output_type": "execute_result"
    }
   ],
   "source": [
    "42 + 9 + 112 + 99 + 9 + 17 + 126"
   ]
  },
  {
   "cell_type": "code",
   "execution_count": 167,
   "id": "considerable-hopkins",
   "metadata": {},
   "outputs": [
    {
     "data": {
      "text/plain": [
       "(800, 3)"
      ]
     },
     "execution_count": 167,
     "metadata": {},
     "output_type": "execute_result"
    }
   ],
   "source": [
    "vms.shape"
   ]
  }
 ],
 "metadata": {
  "kernelspec": {
   "display_name": "Python 3",
   "language": "python",
   "name": "python3"
  },
  "language_info": {
   "codemirror_mode": {
    "name": "ipython",
    "version": 3
   },
   "file_extension": ".py",
   "mimetype": "text/x-python",
   "name": "python",
   "nbconvert_exporter": "python",
   "pygments_lexer": "ipython3",
   "version": "3.8.0"
  }
 },
 "nbformat": 4,
 "nbformat_minor": 5
}
